{
  "nbformat": 4,
  "nbformat_minor": 0,
  "metadata": {
    "colab": {
      "name": "source.ipynb",
      "provenance": [],
      "collapsed_sections": [],
      "mount_file_id": "1TFqS9vYsmGxahP1s6bTDv-o1erUJjQH6",
      "authorship_tag": "ABX9TyNrz6J84gwDK4cYNhmMfQQG",
      "include_colab_link": true
    },
    "kernelspec": {
      "name": "python3",
      "display_name": "Python 3"
    },
    "language_info": {
      "name": "python"
    }
  },
  "cells": [
    {
      "cell_type": "markdown",
      "metadata": {
        "id": "view-in-github",
        "colab_type": "text"
      },
      "source": [
        "<a href=\"https://colab.research.google.com/github/nguyendaiky/CS114.L21/blob/master/source.ipynb\" target=\"_parent\"><img src=\"https://colab.research.google.com/assets/colab-badge.svg\" alt=\"Open In Colab\"/></a>"
      ]
    },
    {
      "cell_type": "code",
      "metadata": {
        "id": "eD4HOxtztxmH"
      },
      "source": [
        "import pandas as pd\n",
        "wecode = pd.read_csv('/content/drive/MyDrive/Colab Notebooks/CS114/Dự đoán điểm thi cuối kì IT001/wecode.csv')\n",
        "score = pd.read_csv('/content/drive/MyDrive/Colab Notebooks/CS114/Dự đoán điểm thi cuối kì IT001/score_training.csv')"
      ],
      "execution_count": 2,
      "outputs": []
    },
    {
      "cell_type": "code",
      "metadata": {
        "colab": {
          "base_uri": "https://localhost:8080/"
        },
        "id": "wD9-eCduzcFX",
        "outputId": "0d726ca7-9e55-4c74-eea6-4a12fadcf497"
      },
      "source": [
        "for i in range(len(score.keys())):\n",
        "  print(score.keys()[i])"
      ],
      "execution_count": 9,
      "outputs": [
        {
          "output_type": "stream",
          "text": [
            "id\n",
            "QT\n",
            "GK\n",
            "TH\n",
            "CK\n",
            "TBM\n",
            "TBTL\n"
          ],
          "name": "stdout"
        }
      ]
    },
    {
      "cell_type": "code",
      "metadata": {
        "id": "8TpmT5Jhzmf5"
      },
      "source": [
        ""
      ],
      "execution_count": null,
      "outputs": []
    }
  ]
}